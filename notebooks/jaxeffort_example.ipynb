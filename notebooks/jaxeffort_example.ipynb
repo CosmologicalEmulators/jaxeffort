{
 "cells": [
  {
   "cell_type": "markdown",
   "id": "3f9c6899-563b-4e95-93cb-3fb6060198a8",
   "metadata": {},
   "source": [
    "# jaxeffort introduction\n",
    "\n",
    "In this notebook we will show how to use some capabilities from `jaxeffort`.In this tutorial you will learn how to instantiate some trained emulators, run them and get jacobians as evaluated from AD systems.\n",
    "\n",
    "We start by loading the required packages."
   ]
  },
  {
   "cell_type": "code",
   "execution_count": 1,
   "id": "d3a4c8ed-8c42-470f-a419-776e36a47d82",
   "metadata": {},
   "outputs": [
    {
     "name": "stdout",
     "output_type": "stream",
     "text": [
      "Initializing neutrino interpolants with dual-grid strategy...\n",
      "Creating F_interpolant grid...\n",
      "Creating dFdy_interpolant grid...\n",
      "F grid: 1100 points from 0.001000 to 1000.0\n",
      "dFdy grid: 20000 points from 0.001000 to 1000.0\n",
      "Computing F values...\n",
      "Computing dFdy values...\n",
      "Creating Akima interpolators...\n",
      "Dual-grid interpolants initialized successfully!\n",
      "jaxeffort: Initializing multipole emulators...\n",
      "  Loading pybird_mnuw0wacdm...\n",
      "  pybird_mnuw0wacdm: Loaded 3/3 multipoles (l=['0', '2', '4'])\n"
     ]
    }
   ],
   "source": [
    "import numpy as np\n",
    "import jaxeffort\n",
    "import jax\n",
    "import matplotlib.pyplot as plt\n",
    "import json\n",
    "plt.rcParams['text.usetex'] = True"
   ]
  },
  {
   "cell_type": "markdown",
   "id": "11541bcc-ebe6-4a88-b8f0-94c0193ea07b",
   "metadata": {},
   "source": [
    "`jaxeffort` comes batteries included with some trained emulators. They can be accessed by"
   ]
  },
  {
   "cell_type": "code",
   "execution_count": 2,
   "id": "f6279a1a-9be7-4649-b234-a29c7272661b",
   "metadata": {},
   "outputs": [],
   "source": [
    "P0 = jaxeffort.trained_emulators[\"pybird_mnuw0wacdm\"][\"0\"]\n",
    "P2 = jaxeffort.trained_emulators[\"pybird_mnuw0wacdm\"][\"2\"]\n",
    "P4 = jaxeffort.trained_emulators[\"pybird_mnuw0wacdm\"][\"4\"]"
   ]
  },
  {
   "cell_type": "markdown",
   "id": "a9c34d03-444b-4566-ba03-a961fa6f3b60",
   "metadata": {},
   "source": [
    "You can get a description of the emulator, together with the parameters the emulator handles, by"
   ]
  },
  {
   "cell_type": "code",
   "execution_count": 3,
   "id": "757dc123-4736-4bc6-9b0b-34a3bbe15d09",
   "metadata": {},
   "outputs": [
    {
     "data": {
      "text/plain": [
       "{'author_email': 'bonici.marco@gmail.com',\n",
       " 'miscellanea': 'The emulator has been trained using CLASS and pybird. The training dataset has been created by passing P_cb to PyBird, assuming there is only one massive neutrino.',\n",
       " 'author': 'Marco Bonici',\n",
       " 'parameters': 'z, ln10^10 As, ns, H0, omega_b, omega_c, Mnu, w0, wa.'}"
      ]
     },
     "execution_count": 3,
     "metadata": {},
     "output_type": "execute_result"
    }
   ],
   "source": [
    "P0.P11.emulator_description"
   ]
  },
  {
   "cell_type": "markdown",
   "id": "345db55e-56d6-48f1-b090-edb32df5aa06",
   "metadata": {},
   "source": [
    "You can see their input parameter ranges by (they are in the same order as in the above description)"
   ]
  },
  {
   "cell_type": "code",
   "execution_count": 4,
   "id": "b193d8d2-ab94-4c0f-ae11-ef3b91bfce44",
   "metadata": {},
   "outputs": [
    {
     "data": {
      "text/plain": [
       "Array([[ 2.85016150e-01,  1.89999462e+00],\n",
       "       [ 2.00002500e+00,  3.49999500e+00],\n",
       "       [ 8.00001000e-01,  1.09999900e+00],\n",
       "       [ 5.00001333e+01,  8.99998667e+01],\n",
       "       [ 2.00000167e-02,  2.49999500e-02],\n",
       "       [ 8.00003333e-02,  1.79999667e-01],\n",
       "       [ 1.66666667e-06,  4.99998333e-01],\n",
       "       [-2.99998833e+00,  4.99965000e-01],\n",
       "       [-2.99998333e+00,  1.99998333e+00]], dtype=float64)"
      ]
     },
     "execution_count": 4,
     "metadata": {},
     "output_type": "execute_result"
    }
   ],
   "source": [
    "P0.P11.in_MinMax"
   ]
  },
  {
   "cell_type": "markdown",
   "id": "6dee7844-e757-489e-9c90-b05129c64112",
   "metadata": {},
   "source": [
    "Now, let us come to the usage of `jaxeffort`. First, let us define some input cosmological parameters (we define here using a dictionary just because it is convenient later for the comparison with `pybird`).\n",
    "\n",
    "We also define some dummy bias parameters. Here we also show how to compute the growth factor by using our built-in ODE solver (this is fundamental for the rescaling part)."
   ]
  },
  {
   "cell_type": "code",
   "execution_count": 5,
   "id": "b426c7be-d005-4833-9a28-9a8bd48dd5e3",
   "metadata": {},
   "outputs": [],
   "source": [
    "b = np.ones(8)\n",
    "\n",
    "cosmo_dict = {\n",
    "    \"ln10As\": 3.2,\n",
    "    \"ns\": 0.86,\n",
    "    \"H0\": 67.,\n",
    "    \"ombh2\": 0.022,\n",
    "    \"omch2\": 0.12,\n",
    "    \"Mν\": 0.06,\n",
    "    \"w0\": -1.8,\n",
    "    \"wa\": 0.3,\n",
    "    \"z\": 1.2,\n",
    "}\n",
    "\n",
    "\n",
    "cosmo = jaxeffort.W0WaCDMCosmology(\n",
    "            ln10As=cosmo_dict[\"ln10As\"],\n",
    "            ns=cosmo_dict[\"ns\"],\n",
    "            h=cosmo_dict[\"H0\"]/100,\n",
    "            omega_b=cosmo_dict[\"ombh2\"],\n",
    "            omega_c=cosmo_dict[\"omch2\"],\n",
    "            m_nu=cosmo_dict[\"Mν\"],\n",
    "            w0=cosmo_dict[\"w0\"],\n",
    "            wa=cosmo_dict[\"wa\"]\n",
    "        )\n",
    "\n",
    "θ = np.array([cosmo_dict[\"z\"], cosmo_dict[\"ln10As\"], cosmo_dict[\"ns\"], cosmo_dict[\"H0\"], cosmo_dict[\"ombh2\"], cosmo_dict[\"omch2\"], cosmo_dict[\"Mν\"], cosmo_dict[\"w0\"],cosmo_dict[\"wa\"]])\n",
    "D = cosmo.D_z(cosmo_dict[\"z\"])"
   ]
  },
  {
   "cell_type": "markdown",
   "id": "3e0b097c-2d93-4615-acdf-6e280d5bc4b0",
   "metadata": {},
   "source": [
    "After this prep work has been done, you just have to feed these three elements to `jaxeffort`."
   ]
  },
  {
   "cell_type": "code",
   "execution_count": 6,
   "id": "7b5177d3-821c-443c-bf7f-bdde28ccb404",
   "metadata": {},
   "outputs": [],
   "source": [
    "P0.get_Pl(θ, b, D);"
   ]
  },
  {
   "cell_type": "markdown",
   "id": "c66a5e8b-9c31-48ed-ba56-eaaf9608fc90",
   "metadata": {},
   "source": [
    "Ok, fine, but are these operations fast? Let's benchmark them."
   ]
  },
  {
   "cell_type": "code",
   "execution_count": 7,
   "id": "515f6214-2926-454d-b1cf-ad6f0193073d",
   "metadata": {},
   "outputs": [
    {
     "name": "stdout",
     "output_type": "stream",
     "text": [
      "536 μs ± 11.6 μs per loop (mean ± std. dev. of 7 runs, 1,000 loops each)\n"
     ]
    }
   ],
   "source": [
    "%timeit cosmo.D_z(cosmo_dict[\"z\"])#single redshift benchmark"
   ]
  },
  {
   "cell_type": "code",
   "execution_count": 8,
   "id": "916a3464-7227-4839-ab4d-4ca15897f450",
   "metadata": {},
   "outputs": [
    {
     "name": "stdout",
     "output_type": "stream",
     "text": [
      "737 μs ± 122 μs per loop (mean ± std. dev. of 7 runs, 1 loop each)\n"
     ]
    }
   ],
   "source": [
    "%timeit cosmo.D_z(np.linspace(0., 3., 30))#multiple redshift benchmark"
   ]
  },
  {
   "cell_type": "code",
   "execution_count": null,
   "id": "da9e6c4c-3dc0-4d40-9387-ca1eaa5e72b5",
   "metadata": {},
   "outputs": [],
   "source": [
    "%timeit P0.get_Pl(θ, b, D)"
   ]
  },
  {
   "cell_type": "markdown",
   "id": "1a29ce7f-ee75-4f83-b07d-cd7c1ccabe2b",
   "metadata": {},
   "source": [
    "Great! Now, let us show how to compute the jacobian of these calculations! In the pure functional style approach that is leveraged by `jax`, let us define an utility function and then differentiate it."
   ]
  },
  {
   "cell_type": "code",
   "execution_count": null,
   "id": "3f1jygrh4aw",
   "metadata": {},
   "outputs": [],
   "source": [
    "# Define function for P0 that depends only on θ\n",
    "def P0_func(theta):\n",
    "    return P0.get_Pl(theta, b, D)\n",
    "\n",
    "# Compute Jacobian: shape (74, 9) - 74 k-bins, 9 cosmological parameters\n",
    "jacobian_P0 = jax.jacfwd(P0_func)(θ)\n",
    "print(f\"Jacobian shape: {jacobian_P0.shape}\")"
   ]
  },
  {
   "cell_type": "markdown",
   "id": "910527d5-9f46-4a1c-8107-f3edc0f347a4",
   "metadata": {},
   "source": [
    "Let us benchmark that as well"
   ]
  },
  {
   "cell_type": "code",
   "execution_count": null,
   "id": "9c5436a6-91cc-4ad2-9209-ea1bd5fe18e8",
   "metadata": {},
   "outputs": [],
   "source": [
    "%timeit jax.jacfwd(P0_func)(θ)"
   ]
  },
  {
   "cell_type": "markdown",
   "id": "1d0d31d1-ce4d-4b92-a665-4fa976662351",
   "metadata": {},
   "source": [
    "Let us now plot the results of these calculations"
   ]
  },
  {
   "cell_type": "code",
   "execution_count": null,
   "id": "8d3a3406-c8bd-4228-a505-7364c37186b6",
   "metadata": {},
   "outputs": [],
   "source": [
    "k = P0.P11.k_grid[:,1]"
   ]
  },
  {
   "cell_type": "code",
   "execution_count": null,
   "id": "00ffef79-5ee9-46bd-9b03-bb6606a39f63",
   "metadata": {},
   "outputs": [],
   "source": [
    "plt.plot(k, k*P0.get_Pl(θ, b, D), label = r\"$\\ell=0$\")\n",
    "plt.plot(k, k*P2.get_Pl(θ, b, D), label = r\"$\\ell=2$\")\n",
    "plt.plot(k, k*P4.get_Pl(θ, b, D), label = r\"$\\ell=4$\")\n",
    "plt.xlabel(r'$k$')\n",
    "plt.ylabel(r'$kP_\\ell(k)$')\n",
    "plt.legend()"
   ]
  },
  {
   "cell_type": "code",
   "execution_count": null,
   "id": "f1c6acc7-21e9-4b7d-a089-a3ee642f2ac4",
   "metadata": {},
   "outputs": [],
   "source": [
    "plt.plot(k, jacobian_P0[:,4], label = r\"$\\omega_\\mathrm{b}$\")\n",
    "plt.plot(k, jacobian_P0[:,5], label = r\"$\\omega_\\mathrm{c}$\")\n",
    "plt.legend()\n",
    "plt.xlabel(r'$k$')\n",
    "plt.ylabel(r'$\\partial P_0(k)/\\partial\\alpha$')"
   ]
  },
  {
   "cell_type": "markdown",
   "id": "296b514e-1132-40bd-9d1e-5b7968c93383",
   "metadata": {},
   "source": [
    "Now, let us focus on some validations. How does it compare with the original `pybird`?\n",
    "\n",
    "**Important**. Here everythin is set to use the exact same settings used to create the training dataset. If you want something different this is fine, but you will need a different emulator. If you want to chang the input cosmological parameters, just change the initial dictionary."
   ]
  },
  {
   "cell_type": "code",
   "execution_count": null,
   "id": "n0rk55ge7jk",
   "metadata": {},
   "outputs": [],
   "source": [
    "# Generate multipoles using CLASS + PyBird (like in training data generation)\n",
    "from classy import Class\n",
    "from pybird.correlator import Correlator\n",
    "\n",
    "z = cosmo_dict[\"z\"]\n",
    "\n",
    "# Setup CLASS parameters\n",
    "cosmo_params = {\n",
    "    \"output\": \"mPk\",\n",
    "    \"P_k_max_h/Mpc\": 20.0,\n",
    "    \"z_pk\": \"0.0,3.\",\n",
    "    \"h\": cosmo_dict[\"H0\"] / 100,\n",
    "    \"omega_b\": cosmo_dict[\"ombh2\"],\n",
    "    \"omega_cdm\": cosmo_dict[\"omch2\"],\n",
    "    \"ln10^{10}A_s\": cosmo_dict[\"ln10As\"],\n",
    "    \"n_s\": cosmo_dict[\"ns\"],\n",
    "    \"tau_reio\": 0.0568,\n",
    "    \"N_ur\": 2.033,\n",
    "    \"N_ncdm\": 1,\n",
    "    \"m_ncdm\": cosmo_dict[\"Mν\"],\n",
    "    \"use_ppf\": \"yes\",\n",
    "    \"w0_fld\": cosmo_dict[\"w0\"],\n",
    "    \"wa_fld\": cosmo_dict[\"wa\"],\n",
    "    \"fluid_equation_of_state\": \"CLP\",\n",
    "    \"cs2_fld\": 1.,\n",
    "    \"Omega_Lambda\": 0.,\n",
    "    \"Omega_scf\": 0.\n",
    "}\n",
    "\n",
    "# Initialize CLASS and compute linear power spectrum\n",
    "M = Class()\n",
    "M.set(cosmo_params)\n",
    "M.compute()\n",
    "\n",
    "# Generate k values and compute linear power spectrum\n",
    "kk = 10 ** np.linspace(-5, 0, 200)\n",
    "pk_lin = [M.pk_cb(k * M.h(), z) * M.h()**3 for k in kk]\n",
    "\n",
    "# Get growth factors\n",
    "D1 = M.scale_independent_growth_factor(z)\n",
    "f1 = M.scale_independent_growth_factor_f(z)\n",
    "\n",
    "# Initialize PyBird Correlator\n",
    "N = Correlator()\n",
    "dk = 0.004\n",
    "kd = np.arange(0.005, 0.3, dk)\n",
    "\n",
    "# Set correlator parameters\n",
    "N.set({\n",
    "    \"output\": \"bPk\",\n",
    "    \"multipole\": 3,\n",
    "    \"kmax\": 0.3,\n",
    "    \"xdata\": kd,\n",
    "    \"km\": 0.7,\n",
    "    \"kr\": 0.35,\n",
    "    \"nd\": 3e-4,\n",
    "    \"eft_basis\": \"eftoflss\",\n",
    "    \"with_stoch\": True,\n",
    "    \"with_bias\": False,\n",
    "    \"with_resum\": True\n",
    "})\n",
    "\n",
    "# Compute correlator\n",
    "N.compute({\n",
    "    \"kk\": kk,\n",
    "    \"pk_lin\": pk_lin,\n",
    "    \"f\": f1\n",
    "})\n",
    "\n",
    "# Get the multipole components (matching training data)\n",
    "P11l = N.bird.P11l\n",
    "Ploopl = N.bird.Ploopl\n",
    "Pctl = N.bird.Pctl\n",
    "\n",
    "print(f\"CLASS+PyBird computation complete!\")"
   ]
  },
  {
   "cell_type": "code",
   "execution_count": null,
   "id": "afc4bb6c-c7ed-4d32-bf98-59e7a7d15bbf",
   "metadata": {},
   "outputs": [],
   "source": [
    "# Apply bias contraction to PyBird components (as jaxeffort does internally)\n",
    "b1, b2, b3, b4, b5, b6, b7, f = b[:8]  # Extract 8 bias parameters\n",
    "\n",
    "# Create bias combinations (21 terms matching training)\n",
    "biases = np.array([\n",
    "    b1**2, 2*b1*f, f**2, 1., b1, b2, b3, b4,\n",
    "    b1*b1, b1*b2, b1*b3, b1*b4,\n",
    "    b2*b2, b2*b4, b4*b4,\n",
    "    2*b1*b5, 2*b1*b6, 2*b1*b7,\n",
    "    2*f*b5, 2*f*b6, 2*f*b7\n",
    "])\n",
    "\n",
    "# Extract and reshape components for each multipole (following trainer.jl logic)\n",
    "# Stack P11 (3 terms), Ploop (12 terms), Pct (6 terms) = 21 total per k-bin\n",
    "P0_stacked = np.hstack([P11l[0].T, Ploopl[0].T, Pctl[0].T])\n",
    "P0_pybird = np.dot(P0_stacked, biases)  # ℓ=0\n",
    "\n",
    "P2_stacked = np.hstack([P11l[1].T, Ploopl[1].T, Pctl[1].T])\n",
    "P2_pybird = np.dot(P2_stacked, biases)  # ℓ=2\n",
    "\n",
    "P4_stacked = np.hstack([P11l[2].T, Ploopl[2].T, Pctl[2].T])\n",
    "P4_pybird = np.dot(P4_stacked, biases)  # ℓ=2"
   ]
  },
  {
   "cell_type": "code",
   "execution_count": null,
   "id": "f173ea44-36e9-4750-b64c-7b5c209fe8b2",
   "metadata": {},
   "outputs": [],
   "source": [
    "# Compare emulator vs CLASS+PyBird\n",
    "# Compute with emulator\n",
    "P0_emu = P0.get_Pl(θ, b, D)\n",
    "P2_emu = P2.get_Pl(θ, b, D)\n",
    "P4_emu = P4.get_Pl(θ, b, D)"
   ]
  },
  {
   "cell_type": "markdown",
   "id": "6b394762-c383-460f-886f-d4a4ba34a3f0",
   "metadata": {},
   "source": [
    "Now, let us compare the two results! We will show both the two lines in the same plot and the percentage residuals."
   ]
  },
  {
   "cell_type": "code",
   "execution_count": null,
   "id": "0a1538e3-98b6-47d3-b445-36a7a9b3959b",
   "metadata": {},
   "outputs": [],
   "source": [
    "ratio  = P0_pybird / P0_emu  \n",
    "\n",
    "fig, (ax_top, ax_bot) = plt.subplots(\n",
    "    2, 1,\n",
    "    sharex=True,\n",
    "    gridspec_kw={\"height_ratios\": [3, 1]},  # top three times taller\n",
    ")\n",
    "\n",
    "# ─── Top panel: power spectra ────────────────────────────────\n",
    "ax_top.plot(k, k*P0_pybird, label=r'$\\mathrm{pybird}$')\n",
    "ax_top.plot(k, k*P0_emu, label=r'$\\mathrm{jaxeffort}$', linestyle =\"--\")\n",
    "ax_top.set_ylabel(r'$kP_0(k)$')\n",
    "ax_top.legend()\n",
    "\n",
    "# ─── Bottom panel: ratio ─────────────────────────────────────\n",
    "ax_bot.plot(k, 100*(1-ratio), color='k')\n",
    "ax_bot.set_xlabel(r'$k$')\n",
    "ax_bot.set_ylabel(r'$\\%\\,\\mathrm{residuals}$')\n",
    "\n",
    "plt.tight_layout()\n",
    "plt.show()"
   ]
  },
  {
   "cell_type": "code",
   "execution_count": null,
   "id": "ace31b89-556c-4bd0-b9dd-b33ec50ecfb1",
   "metadata": {},
   "outputs": [],
   "source": [
    "ratio  = P2_pybird / P2_emu  \n",
    "\n",
    "fig, (ax_top, ax_bot) = plt.subplots(\n",
    "    2, 1,\n",
    "    sharex=True,\n",
    "    gridspec_kw={\"height_ratios\": [3, 1]},  # top three times taller\n",
    ")\n",
    "\n",
    "# ─── Top panel: power spectra ────────────────────────────────\n",
    "ax_top.plot(k, k*P2_pybird, label=r'$\\mathrm{pybird}$')\n",
    "ax_top.plot(k, k*P2_emu, label=r'$\\mathrm{jaxeffort}$', linestyle =\"--\")\n",
    "ax_top.set_ylabel(r'$kP_2(k)$')\n",
    "ax_top.legend()\n",
    "\n",
    "# ─── Bottom panel: ratio ─────────────────────────────────────\n",
    "ax_bot.plot(k, 100*(1-ratio), color='k')\n",
    "ax_bot.set_xlabel(r'$k$')\n",
    "ax_bot.set_ylabel(r'$\\%\\,\\mathrm{residuals}$')\n",
    "\n",
    "plt.tight_layout()\n",
    "plt.show()"
   ]
  },
  {
   "cell_type": "code",
   "execution_count": null,
   "id": "004991ee-6082-4c73-931b-9e3faa0abbe8",
   "metadata": {},
   "outputs": [],
   "source": [
    "ratio  = P4_pybird / P4_emu  \n",
    "\n",
    "fig, (ax_top, ax_bot) = plt.subplots(\n",
    "    2, 1,\n",
    "    sharex=True,\n",
    "    gridspec_kw={\"height_ratios\": [3, 1]},  # top three times taller\n",
    ")\n",
    "\n",
    "# ─── Top panel: power spectra ────────────────────────────────\n",
    "ax_top.plot(k, k*P4_pybird, label=r'$\\mathrm{pybird}$')\n",
    "ax_top.plot(k, k*P4_emu, label=r'$\\mathrm{jaxeffort}$', linestyle =\"--\")\n",
    "ax_top.set_ylabel(r'$kP_4(k)$')\n",
    "ax_top.legend()\n",
    "\n",
    "# ─── Bottom panel: ratio ─────────────────────────────────────\n",
    "ax_bot.plot(k, 100*(1-ratio), color='k')\n",
    "ax_bot.set_xlabel(r'$k$')\n",
    "ax_bot.set_ylabel(r'$\\%\\,\\mathrm{residuals}$')\n",
    "\n",
    "plt.tight_layout()\n",
    "plt.show()"
   ]
  },
  {
   "cell_type": "code",
   "execution_count": null,
   "id": "318b3780-5903-49b9-b7c8-780726573a13",
   "metadata": {},
   "outputs": [],
   "source": []
  }
 ],
 "metadata": {
  "kernelspec": {
   "display_name": "Python 3 (ipykernel)",
   "language": "python",
   "name": "python3"
  },
  "language_info": {
   "codemirror_mode": {
    "name": "ipython",
    "version": 3
   },
   "file_extension": ".py",
   "mimetype": "text/x-python",
   "name": "python",
   "nbconvert_exporter": "python",
   "pygments_lexer": "ipython3",
   "version": "3.13.2"
  }
 },
 "nbformat": 4,
 "nbformat_minor": 5
}
